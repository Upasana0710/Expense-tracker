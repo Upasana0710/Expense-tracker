{
 "cells": [
  {
   "cell_type": "code",
   "execution_count": 134,
   "id": "c7dd01be",
   "metadata": {},
   "outputs": [],
   "source": [
    "from sklearn.tree import DecisionTreeClassifier\n",
    "from sklearn.preprocessing import StandardScaler, LabelEncoder\n",
    "import pickle\n",
    "investment_data=pd.read_excel(\"investments.xlsx\")"
   ]
  },
  {
   "cell_type": "code",
   "execution_count": 135,
   "id": "100a5dee",
   "metadata": {
    "scrolled": false
   },
   "outputs": [],
   "source": [
    "X = investment_data.drop(columns=['Investment'])\n",
    "y = investment_data['Investment']"
   ]
  },
  {
   "cell_type": "code",
   "execution_count": 136,
   "id": "752189f4",
   "metadata": {},
   "outputs": [],
   "source": [
    "# Encode categorical variables\n",
    "label_encoder = LabelEncoder()\n",
    "X['Type'] = label_encoder.fit_transform(X['Type'])\n",
    "X['Potential Return'] = label_encoder.fit_transform(X['Potential Return'])"
   ]
  },
  {
   "cell_type": "code",
   "execution_count": 137,
   "id": "433e32dd",
   "metadata": {},
   "outputs": [],
   "source": [
    "scaler = StandardScaler()\n",
    "X_scaled = scaler.fit_transform(X)"
   ]
  },
  {
   "cell_type": "code",
   "execution_count": 138,
   "id": "048558c4",
   "metadata": {},
   "outputs": [
    {
     "data": {
      "text/plain": [
       "RandomForestClassifier(random_state=42)"
      ]
     },
     "execution_count": 138,
     "metadata": {},
     "output_type": "execute_result"
    }
   ],
   "source": [
    "model = RandomForestClassifier(n_estimators=100, random_state=42)\n",
    "model.fit(X_scaled, y)"
   ]
  },
  {
   "cell_type": "code",
   "execution_count": 139,
   "id": "891835d1",
   "metadata": {
    "scrolled": true
   },
   "outputs": [],
   "source": [
    "with open('investment_model.pkl', 'wb') as file:\n",
    "    pickle.dump(model, file)"
   ]
  },
  {
   "cell_type": "code",
   "execution_count": 127,
   "id": "a60b84bf",
   "metadata": {},
   "outputs": [],
   "source": []
  },
  {
   "cell_type": "code",
   "execution_count": 109,
   "id": "f688f86c",
   "metadata": {},
   "outputs": [],
   "source": []
  },
  {
   "cell_type": "code",
   "execution_count": 92,
   "id": "dfb8e20e",
   "metadata": {},
   "outputs": [],
   "source": []
  },
  {
   "cell_type": "code",
   "execution_count": null,
   "id": "9a648956",
   "metadata": {},
   "outputs": [],
   "source": []
  }
 ],
 "metadata": {
  "kernelspec": {
   "display_name": "Python 3 (ipykernel)",
   "language": "python",
   "name": "python3"
  },
  "language_info": {
   "codemirror_mode": {
    "name": "ipython",
    "version": 3
   },
   "file_extension": ".py",
   "mimetype": "text/x-python",
   "name": "python",
   "nbconvert_exporter": "python",
   "pygments_lexer": "ipython3",
   "version": "3.9.13"
  }
 },
 "nbformat": 4,
 "nbformat_minor": 5
}
